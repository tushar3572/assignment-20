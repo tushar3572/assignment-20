{
 "cells": [
  {
   "cell_type": "code",
   "execution_count": null,
   "id": "f024b63d-1d03-45c4-8f8e-4e7f35898d0d",
   "metadata": {},
   "outputs": [],
   "source": [
    "    #Answer : 1\n",
    "    \n",
    "Statistics is the science of collecting ,organizing and analyzing data.    "
   ]
  },
  {
   "cell_type": "code",
   "execution_count": null,
   "id": "4182ef67-295c-453b-8f71-eafbdef4602a",
   "metadata": {},
   "outputs": [],
   "source": [
    "    #Answer : 2\n",
    "    \n",
    "Statistics can be broadly categorized into two main types: descriptive statistics and inferential statistics.\n",
    "\n",
    "1.Descriptive Statistics:\n",
    "\n",
    "Descriptive statistics are used to summarize and describe data. \n",
    "They provide a way to organize and present data in a meaningful and easily understandable manner. \n",
    "Common descriptive statistics include measures of central tendency (mean, median, mode), measures of dispersion (range, variance, standard deviation), and graphical representations (histograms, box plots).\n",
    "Example: In a survey of household incomes in a city, you might calculate the mean income to determine the average income of the residents, compute the range to understand the income spread, and create a histogram to visualize the income distribution.\n",
    "\n",
    "Inferential Statistics:\n",
    "\n",
    "Inferential statistics are used to make inferences or draw conclusions about a population based on a sample of data.\n",
    "These techniques involve hypothesis testing, confidence intervals, and regression analysis, among others.\n",
    "Inferential statistics help you make predictions and generalizations about a larger group or population from a smaller, representative sample.\n",
    "Example: In a clinical trial for a new drug, you might use inferential statistics to determine whether the drug is more effective than a placebo by comparing the outcomes of the treatment group and the control group. This involves hypothesis testing to assess the significance of the observed differences."
   ]
  },
  {
   "cell_type": "code",
   "execution_count": 1,
   "id": "07bd7078-a4e0-4675-aaa5-86ca08536178",
   "metadata": {},
   "outputs": [],
   "source": [
    "    #Answer : 3\n",
    " \n",
    " Data can be divided in two types:\n",
    "\n",
    "1. Quantative:\n",
    "    futher , this is also divided into two types:\n",
    "        (i) Discrete:\n",
    "            Example- Number of bank account , No of children in a family.\n",
    "        (ii) Contiuous:\n",
    "            Example- Weight, Height ,Temperature.\n",
    "        \n",
    "2. Qualitative:\n",
    "    it is also have two types:\n",
    "        (i) Nominal:\n",
    "            Example- Gender , Blood Group.\n",
    "        (ii) Ordinal:\n",
    "            Example- Customer feedback.\n",
    "        \n",
    "        "
   ]
  },
  {
   "cell_type": "code",
   "execution_count": null,
   "id": "da907d13-5b87-41f5-9517-ee9bdf73df11",
   "metadata": {},
   "outputs": [],
   "source": [
    "    #Answer : 4\n",
    "    \n",
    "(i)Grading in exam: A+, A, B+, B, C+, C, D, E                                      -    Qualitative\n",
    "(ii) Colour of mangoes: yellow, green, orange, red                                 -    Qualitative \n",
    "(iii) Height data of a class: [178.9, 179, 179.5, 176, 177.2, 178.3, 175.8,...]    -    Quantitative\n",
    "(iv) Number of mangoes exported by a farm: [500, 600, 478, 672, ...]               -    Quantitative"
   ]
  },
  {
   "cell_type": "code",
   "execution_count": null,
   "id": "7e5574c7-fc33-4eec-9e8a-c596c1ab05c5",
   "metadata": {},
   "outputs": [],
   "source": [
    "    #Answer : 5\n",
    "    \n",
    "Nominal Level of Measurement:\n",
    "\n",
    "Nominal data consist of categories or labels with no inherent order or ranking. Nominal variables are qualitative and can only be categorized or counted.\n",
    "Example: Eye color (e.g., blue, green, brown) is a nominal variable. There is no meaningful order or ranking between these categories; they are just distinct labels.\n",
    "\n",
    "Ordinal Level of Measurement:\n",
    "\n",
    "Ordinal data represent categories with a specific order or ranking, but the differences between categories are not necessarily uniform or meaningful. Ordinal variables can be ranked, but the intervals between them are unknown.\n",
    "Example: Education level (e.g., high school, college, graduate) is an ordinal variable. There is an order to the categories, but the difference between \"high school\" and \"college\" may not be the same as the difference between \"college\" and \"graduate.\"\n",
    "\n",
    "Discrete Level of Measurement:\n",
    "\n",
    "Discrete data have ordered categories with uniform intervals between them, but they lack a true zero point. Interval variables can be added and subtracted, but meaningful ratios and proportions cannot be calculated.\n",
    "Example: Temperature in degrees Celsius or Fahrenheit is an interval variable. The difference between 20°C and 30°C is the same as the difference between 30°C and 40°C, but there is no absolute zero temperature.\n",
    "\n",
    "Continuous Level of Measurement:\n",
    "\n",
    "Continuous data also have ordered categories with uniform intervals, but they have a true zero point, indicating the absence of the quantity being measured. Ratio variables allow for meaningful ratios and proportions.\n",
    "Example: Height in centimeters or weight in kilograms is ratio variables. A height of 180 cm is not only taller than 160 cm, but it is also twice as tall because there is a meaningful zero point (0 cm indicates no height)."
   ]
  },
  {
   "cell_type": "code",
   "execution_count": null,
   "id": "26962145-42cb-4d41-9f64-ee888e8cd19b",
   "metadata": {},
   "outputs": [],
   "source": [
    "    #Answer : 6\n",
    "    \n",
    "It is important to understand the level of measurement of variables in research, because the level of measurement determines the type of statistical analysis that can be conducted, \n",
    "and, therefore, the type of conclusions that can be drawn from the research.\n",
    "\n",
    "Example: Let's say you have data on students' favorite colors, categorized as \"red,\" \"blue,\" and \"green\" (nominal data). \n",
    "If you were to calculate the mean (average) color preference, it wouldn't make sense because these categories lack numerical values. \n",
    "Instead, you should use methods like frequency counts or chi-square tests to analyze this nominal data properly.\n",
    "\n"
   ]
  },
  {
   "cell_type": "code",
   "execution_count": null,
   "id": "8af808ea-413d-4c07-a05b-712fcfdc9726",
   "metadata": {},
   "outputs": [],
   "source": [
    "    #Answer : 7\n",
    "    \n",
    "The main differences between Nominal Data and Ordinal Data are: \n",
    "    While Nominal Data is classified without any intrinsic ordering or rank, \n",
    "    Ordinal Data has some predetermined or natural order. Nominal data is qualitative or categorical data,\n",
    "    while Ordinal data is considered “in-between” qualitative and quantitative data.    "
   ]
  },
  {
   "cell_type": "code",
   "execution_count": null,
   "id": "abb16f55-6d9c-4fcc-82cb-9a444fa2c712",
   "metadata": {},
   "outputs": [],
   "source": [
    "    #Answer : 8\n",
    "    \n",
    "Histograms are used.    "
   ]
  },
  {
   "cell_type": "code",
   "execution_count": null,
   "id": "3345fbf7-fc6e-474b-acba-a141d7a46a45",
   "metadata": {},
   "outputs": [],
   "source": [
    "    #Answer : 9\n",
    "    \n",
    "Descriptive Statistics:\n",
    "\n",
    "Purpose: Descriptive statistics are used to summarize and describe data sets. They help in organizing and presenting data in a meaningful and interpretable way. Descriptive statistics aim to provide a clear and concise overview of the essential characteristics of a dataset.\n",
    "\n",
    "Example: Let's consider a dataset containing the ages of students in a class: [18, 19, 20, 21, 22, 23, 24]. Descriptive statistics for this dataset would include measures like the mean (average) age, median (middle value), and standard deviation (measure of data spread).\n",
    "These statistics offer insights into the central tendency and variability of the data without making broader conclusions. \n",
    "\n",
    "Inferential Statistics:\n",
    "\n",
    "Purpose: Inferential statistics are used to draw conclusions, make predictions, or test hypotheses about a population based on a sample of data. They involve making inferences or generalizations beyond the observed data, using probability and statistical methods.\n",
    "\n",
    "Example: Consider a scenario where you want to determine if there is a significant difference in the average test scores between two groups of students, a control group and an experimental group. You collect data from both groups and use a t-test to analyze the data. \n",
    "The result of the t-test will help you infer whether the observed difference in means is statistically significant and can be generalized to the larger population of students."
   ]
  },
  {
   "cell_type": "code",
   "execution_count": null,
   "id": "21e25977-bec2-4290-bd58-5d676e46ef06",
   "metadata": {},
   "outputs": [],
   "source": [
    "    #Answer : 10\n",
    "    \n",
    "Measures of central tendency tell us what is common or typical about our variable.\n",
    "Three measures of central tendency are the mode, the median and the mean. \n",
    "The mode is used almost exclusively with nominal-level data, as it is the only measure of central tendency available for such variables.    "
   ]
  }
 ],
 "metadata": {
  "kernelspec": {
   "display_name": "Python 3 (ipykernel)",
   "language": "python",
   "name": "python3"
  },
  "language_info": {
   "codemirror_mode": {
    "name": "ipython",
    "version": 3
   },
   "file_extension": ".py",
   "mimetype": "text/x-python",
   "name": "python",
   "nbconvert_exporter": "python",
   "pygments_lexer": "ipython3",
   "version": "3.10.8"
  }
 },
 "nbformat": 4,
 "nbformat_minor": 5
}
